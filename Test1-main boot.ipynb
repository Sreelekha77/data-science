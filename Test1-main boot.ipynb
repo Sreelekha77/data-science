{
 "cells": [
  {
   "cell_type": "code",
   "execution_count": 12,
   "id": "cf3e0411-ea56-4f87-afb5-f1470688b6c1",
   "metadata": {},
   "outputs": [
    {
     "name": "stdin",
     "output_type": "stream",
     "text": [
      "Enter the Password: Sreelekha77@\n"
     ]
    },
    {
     "name": "stdout",
     "output_type": "stream",
     "text": [
      "True\n"
     ]
    }
   ],
   "source": [
    "'''You are a cyber security manager, and your task is to identify if the\n",
    "password entered by the user is strong or not. The basic rule to check\n",
    "the password strength is it should have at least 8 characters, and\n",
    "contain at least one each of uppercase letters, lowercase letters, digits,\n",
    "and special characters (any character that is not a letter or digit).\n",
    "Write a function checkpass(password) that takes a string argument\n",
    "password and return True if it fits the criteria for a strong password\n",
    "and False if not.'''\n",
    "\n",
    "def checkpass(password):\n",
    "    if len(password) < 8:\n",
    "        return False\n",
    "    has_uppercase = False\n",
    "    has_lowercase = False\n",
    "    has_digit = False\n",
    "    has_special = False\n",
    "    for char in password:\n",
    "        if char.isupper():\n",
    "            has_uppercase = True\n",
    "        elif char.islower():\n",
    "            has_lowercase = True\n",
    "        elif char.isdigit():\n",
    "            has_digit = True\n",
    "        else:\n",
    "            has_special = True\n",
    "    return has_uppercase and has_lowercase and has_digit and has_special\n",
    "password = input(\"Enter the Password:\")\n",
    "print(checkpass(password)) \n",
    "\n"
   ]
  },
  {
   "cell_type": "code",
   "execution_count": 67,
   "id": "f709979a-95cd-41dc-bf53-b49a0cdfb130",
   "metadata": {},
   "outputs": [
    {
     "name": "stdout",
     "output_type": "stream",
     "text": [
      "Suspended 0.4\n",
      "Not Suspended 0.7\n"
     ]
    }
   ],
   "source": [
    "'''Ankit, a teaching assistant in data science, has been frequently taking\n",
    "leave in the past few weeks. His supervisor, who is is concerned that\n",
    "he might have exceeded his quota of paid leaves. To investigate this,\n",
    "the supervisor analyzed Ankit’s attendance for the last two weeks,\n",
    "consisting of five working days every week. The attendance register\n",
    "indicated ‘P’ for present and ‘A’ for absent. Ankit faces suspension\n",
    "if his attendance falls below 70%. Your task is to write a function\n",
    "attendance(record) that takes Ankit’s attendance record as a string\n",
    "argument and determines whether he could be suspended or not. The\n",
    "function argument is a string containing the attendance in the form of\n",
    "’P’ or ’A’ separated by a single space. Return value should be a 2-tuple\n",
    "whose first element is the string 'suspended' if he has less than 70%\n",
    "attendance, and 'not suspended' if his attendance is 70% or above.\n",
    "The second element should be the percentage of his attendance as a\n",
    "fraction (0.7 for 70%).'''\n",
    "\n",
    "def attendance(record):\n",
    "    attendance_list = record.split()\n",
    "    total_days = len(attendance_list)\n",
    "    present_days = attendance_list.count('P')\n",
    "    absent_days = attendance_list.count('A')\n",
    "    attendance_percentage = present_days / total_days\n",
    "    \n",
    "    if attendance_percentage < 0.7:\n",
    "        print ('Suspended', attendance_percentage)\n",
    "    else:\n",
    "        print ('Not Suspended', attendance_percentage)\n",
    "\n",
    "#record =input('enter the attendance  list')\n",
    "#print(attendance(record))\n",
    "attendance('P P A A A P A P A A')\n",
    "attendance('P P P A P P A P A P')\n"
   ]
  },
  {
   "cell_type": "code",
   "execution_count": 56,
   "id": "63f5b71b-a6a2-4fe7-8989-7ef4ca02a1e2",
   "metadata": {},
   "outputs": [
    {
     "name": "stdout",
     "output_type": "stream",
     "text": [
      "Ram\n"
     ]
    }
   ],
   "source": [
    "def sree_max(marks_dict):\n",
    "    sorted_marks = sorted(marks_dict.items(), key=lambda x: x[1], reverse=True)  \n",
    "    if len(sorted_marks) > 1:\n",
    "        return sorted_marks[1][0]\n",
    "    return None\n",
    "marks_dict = {'Ram': 25, 'Raj': 26, 'Ravi': 23, 'Sam': 22, 'Raji': 15}\n",
    "print(sree_max(marks_dict))\n",
    "\n"
   ]
  },
  {
   "cell_type": "code",
   "execution_count": 63,
   "id": "8ff52c36-5684-4730-83e9-b49e7a64a4bf",
   "metadata": {},
   "outputs": [
    {
     "name": "stdin",
     "output_type": "stream",
     "text": [
      "enter the number: 123\n"
     ]
    },
    {
     "name": "stdout",
     "output_type": "stream",
     "text": [
      "True\n"
     ]
    }
   ],
   "source": [
    "def multiple_of_3(number):\n",
    "    number_str = str(number)\n",
    "    digit_sum = sum(int(digit) for digit in number_str)\n",
    "    if digit_sum % 3 == 0:\n",
    "        return True\n",
    "    else:\n",
    "        return False\n",
    "number = input(\"enter the number:\")\n",
    "print(multiple_of_3(number))\n",
    " \n"
   ]
  },
  {
   "cell_type": "code",
   "execution_count": 70,
   "id": "475315da-9a3f-40a3-9c26-da3ad7bc99ef",
   "metadata": {},
   "outputs": [
    {
     "name": "stdin",
     "output_type": "stream",
     "text": [
      "enter the value: blahblahblah\n"
     ]
    },
    {
     "name": "stdout",
     "output_type": "stream",
     "text": [
      "blahblahblah\n"
     ]
    }
   ],
   "source": [
    "def deduplicate(arg):\n",
    "    deduplicated_string = \"\"\n",
    "    previous_char = None\n",
    "    \n",
    "    for char in arg:\n",
    "        if char != previous_char:\n",
    "            deduplicated_string += char\n",
    "            previous_char = char\n",
    "    \n",
    "    return deduplicated_string\n",
    "input_string = input(\"enter the value:\")\n",
    "output_string = deduplicate(input_string)\n",
    "print(output_string)"
   ]
  },
  {
   "cell_type": "code",
   "execution_count": null,
   "id": "3779f000-22c0-46e9-839c-7bd0e258cb54",
   "metadata": {},
   "outputs": [],
   "source": []
  }
 ],
 "metadata": {
  "kernelspec": {
   "display_name": "Python 3 (ipykernel)",
   "language": "python",
   "name": "python3"
  },
  "language_info": {
   "codemirror_mode": {
    "name": "ipython",
    "version": 3
   },
   "file_extension": ".py",
   "mimetype": "text/x-python",
   "name": "python",
   "nbconvert_exporter": "python",
   "pygments_lexer": "ipython3",
   "version": "3.11.5"
  }
 },
 "nbformat": 4,
 "nbformat_minor": 5
}
